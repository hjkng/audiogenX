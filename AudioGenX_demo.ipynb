{
 "cells": [
  {
   "cell_type": "markdown",
   "metadata": {},
   "source": [
    "# TAG-XAI\n",
    "## Text-to-Audio eXplainable AI"
   ]
  },
  {
   "cell_type": "code",
   "execution_count": null,
   "outputs": [],
   "source": [
    "import sys\n",
    "import os\n",
    "\n",
    "os.environ[\"CUDA_VISIBLE_DEVICES\"]= '' # 'your gpu id\n",
    "\n",
    "project_path = '' # 'your project path\n",
    "sys.path.append(project_path)"
   ],
   "metadata": {
    "collapsed": false
   }
  },
  {
   "cell_type": "code",
   "execution_count": null,
   "outputs": [],
   "source": [
    "from audiocraft.models import AudioGen\n",
    "from audiocraft.models import Explainer\n",
    "from audiocraft.models import MaskGenerator"
   ],
   "metadata": {
    "collapsed": false
   }
  },
  {
   "cell_type": "code",
   "execution_count": null,
   "outputs": [],
   "source": [
    "import torch\n",
    "import torch.nn as nn\n",
    "import torch.optim as optim\n",
    "import torchaudio\n",
    "\n",
    "device = 'cuda' if torch.cuda.is_available() else 'cpu'"
   ],
   "metadata": {
    "collapsed": false
   }
  },
  {
   "cell_type": "code",
   "execution_count": null,
   "outputs": [],
   "source": [
    "audiogen = AudioGen.get_pretrained('facebook/audiogen-medium')\n",
    "explainer = Explainer(audiogen, audiogen.lm)"
   ],
   "metadata": {
    "collapsed": false
   }
  },
  {
   "cell_type": "code",
   "execution_count": null,
   "outputs": [],
   "source": [
    "explainer.duration = 5\n",
    "explainer.generation_params['use_sampling'] = True"
   ],
   "metadata": {
    "collapsed": false
   }
  },
  {
   "cell_type": "markdown",
   "source": [
    "### Generate audio"
   ],
   "metadata": {
    "collapsed": false
   }
  },
  {
   "cell_type": "code",
   "execution_count": null,
   "outputs": [],
   "source": [
    "description = 'A person is walking on a gravel road.'"
   ],
   "metadata": {
    "collapsed": false
   }
  },
  {
   "cell_type": "code",
   "execution_count": null,
   "outputs": [],
   "source": [
    "with torch.no_grad():\n",
    "    sequences, _, outs = explainer.generate_with_mask([description])\n",
    "    sequences = sequences.detach()\n",
    "    cond = outs[0].detach()"
   ],
   "metadata": {
    "collapsed": false
   }
  },
  {
   "cell_type": "code",
   "execution_count": null,
   "outputs": [],
   "source": [
    "from audiocraft.utils.notebook import display_audio\n",
    "audio = explainer.token_to_audio(sequences)\n",
    "\n",
    "display_audio(audio, sample_rate=16000)"
   ],
   "metadata": {
    "collapsed": false
   }
  },
  {
   "cell_type": "markdown",
   "source": [
    "### Explain Text-Audio Pair"
   ],
   "metadata": {
    "collapsed": false
   }
  },
  {
   "cell_type": "code",
   "execution_count": null,
   "outputs": [],
   "source": [
    "emb = explainer.get_token_emb(description).squeeze().detach()"
   ],
   "metadata": {
    "collapsed": false
   }
  },
  {
   "cell_type": "code",
   "execution_count": null,
   "outputs": [],
   "source": [
    "maskGenerators = nn.ModuleList([MaskGenerator(emb.shape[0], emb.shape[1]).to(explainer.device) for _ in range(cond.shape[0])])"
   ],
   "metadata": {
    "collapsed": false
   }
  },
  {
   "cell_type": "code",
   "execution_count": null,
   "outputs": [],
   "source": [
    "for mask_gen in maskGenerators:\n",
    "    mask_gen.hard = False"
   ],
   "metadata": {
    "collapsed": false
   }
  },
  {
   "cell_type": "code",
   "execution_count": null,
   "outputs": [],
   "source": [
    "epochs = 50\n",
    "lr = 1E-3"
   ],
   "metadata": {
    "collapsed": false
   }
  },
  {
   "cell_type": "code",
   "execution_count": null,
   "outputs": [],
   "source": [
    "optimizer = optim.Adam(maskGenerators.parameters(), lr=lr, weight_decay=1e-3)"
   ],
   "metadata": {
    "collapsed": false
   }
  },
  {
   "cell_type": "code",
   "execution_count": null,
   "outputs": [],
   "source": [
    "maskGenerators.train()\n",
    "print()"
   ],
   "metadata": {
    "collapsed": false
   }
  },
  {
   "cell_type": "code",
   "execution_count": null,
   "outputs": [],
   "source": [
    "def gen_mask(maskGenerators, emb):\n",
    "    params=[]\n",
    "    reparams=[]\n",
    "    for mask_gen in maskGenerators:\n",
    "        x, reparam = mask_gen(emb)\n",
    "        params.append(x.squeeze())\n",
    "        reparams.append(reparam.squeeze())\n",
    "\n",
    "    params = torch.stack(params, dim=0)\n",
    "    reparams = torch.stack(reparams, dim=0)\n",
    "    return params, reparams"
   ],
   "metadata": {
    "collapsed": false
   }
  },
  {
   "cell_type": "code",
   "execution_count": null,
   "outputs": [],
   "source": [
    "cos = nn.CosineSimilarity(dim=-1, eps=1e-6)"
   ],
   "metadata": {
    "collapsed": false
   }
  },
  {
   "cell_type": "code",
   "execution_count": null,
   "outputs": [],
   "source": [
    "EPS = 1E-6\n",
    "beta = 1E-3\n",
    "gamma = 1E-1"
   ],
   "metadata": {
    "collapsed": false
   }
  },
  {
   "cell_type": "code",
   "execution_count": null,
   "outputs": [],
   "source": [
    "for epoch in range(epochs):\n",
    "    params, reparams = gen_mask(maskGenerators, emb)\n",
    "    _, outs_F = explainer(sequences[:, :, :-1].permute(2, 1, 0), description, reparams)\n",
    "    cond_F, _ = outs_F.split(outs_F.shape[0]//2, dim=0)\n",
    "\n",
    "    _, outs_CF = explainer(sequences[:, :, :-1].permute(2, 1, 0), description, 1-reparams)\n",
    "    cond_CF, _ = outs_CF.split(outs_CF.shape[0]//2, dim=0)\n",
    "\n",
    "    loss_F = - cos(cond, cond_F.squeeze()).sum()\n",
    "    loss_CF = cos(cond, cond_CF.squeeze()).sum()\n",
    "\n",
    "    l1 = abs(params).sum()\n",
    "    l2 = torch.sqrt((params**2).sum())\n",
    "\n",
    "    loss = loss_F + loss_CF + (l1 * beta) + (l2 * gamma)\n",
    "    optimizer.zero_grad()\n",
    "    loss.backward()\n",
    "    optimizer.step()\n",
    "\n",
    "    print(f'epoch({epoch}) :{loss.item():.2f} {loss_F.item():.2f} {loss_CF.item():.2f} {l1.item():.2f} {l2.item():.2f}')"
   ],
   "metadata": {
    "collapsed": false
   }
  },
  {
   "cell_type": "code",
   "execution_count": null,
   "outputs": [],
   "source": [
    "for tkn, m in zip(explainer.lm.condition_provider.conditioners.description.t5_tokenizer.tokenize(description),reparams.mean(dim=0).tolist()):\n",
    "    print(f'{tkn} : {m:.2f}')"
   ],
   "metadata": {
    "collapsed": false
   }
  },
  {
   "cell_type": "markdown",
   "source": [
    "### factual mask audio generating"
   ],
   "metadata": {
    "collapsed": false
   }
  },
  {
   "cell_type": "code",
   "execution_count": null,
   "outputs": [],
   "source": [
    "explainer.generation_params['use_sampling'] = True\n",
    "explainer.generation_params['top_k'] = 250\n",
    "maskGenerators.eval()\n",
    "\n",
    "with torch.no_grad():\n",
    "    params, reparams = gen_mask(maskGenerators, emb)\n",
    "    sequences_F, _, _ = explainer.generate_with_mask([description], mask=reparams)\n",
    "    audio_F = explainer.token_to_audio(sequences_F)"
   ],
   "metadata": {
    "collapsed": false
   }
  },
  {
   "cell_type": "code",
   "execution_count": null,
   "outputs": [],
   "source": [
    "display_audio(audio_F, sample_rate=16000)"
   ],
   "metadata": {
    "collapsed": false
   }
  },
  {
   "cell_type": "code",
   "execution_count": null,
   "outputs": [],
   "source": [
    "torchaudio.save('audio_F.wav', audio_F.squeeze(0).detach().cpu(), 16000)"
   ],
   "metadata": {
    "collapsed": false
   }
  },
  {
   "cell_type": "markdown",
   "source": [
    "### counterfactual mask audio generating"
   ],
   "metadata": {
    "collapsed": false
   }
  },
  {
   "cell_type": "code",
   "execution_count": null,
   "outputs": [],
   "source": [
    "explainer.generation_params['use_sampling'] = True\n",
    "explainer.generation_params['top_k'] = 250\n",
    "maskGenerators.eval()\n",
    "\n",
    "with torch.no_grad():\n",
    "    params, reparams = gen_mask(maskGenerators, emb)\n",
    "    sequences_CF, _, _ = explainer.generate_with_mask([description], mask=1-reparams)\n",
    "    audio_CF = explainer.token_to_audio(sequences_CF)"
   ],
   "metadata": {
    "collapsed": false
   }
  },
  {
   "cell_type": "code",
   "execution_count": null,
   "outputs": [],
   "source": [
    "display_audio(audio_CF, sample_rate=16000)"
   ],
   "metadata": {
    "collapsed": false
   }
  },
  {
   "cell_type": "code",
   "execution_count": null,
   "outputs": [],
   "source": [
    "torchaudio.save('audio_CF.wav', audio_CF.squeeze(0).detach().cpu(), 16000)"
   ],
   "metadata": {
    "collapsed": false
   }
  },
  {
   "cell_type": "code",
   "execution_count": null,
   "outputs": [],
   "source": [],
   "metadata": {
    "collapsed": false
   }
  }
 ],
 "metadata": {
  "kernelspec": {
   "display_name": "Python 3 (ipykernel)",
   "language": "python",
   "name": "python3"
  },
  "language_info": {
   "codemirror_mode": {
    "name": "ipython",
    "version": 3
   },
   "file_extension": ".py",
   "mimetype": "text/x-python",
   "name": "python",
   "nbconvert_exporter": "python",
   "pygments_lexer": "ipython3",
   "version": "3.9.7"
  }
 },
 "nbformat": 4,
 "nbformat_minor": 2
}
